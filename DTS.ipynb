{
 "cells": [
  {
   "cell_type": "markdown",
   "metadata": {},
   "source": [
    "# Digital Theater Systems Surround"
   ]
  },
  {
   "cell_type": "markdown",
   "metadata": {},
   "source": [
    "\\begin{itemize}\n",
    "\\item Developed by DTS in 1993 (Jurassic Park).\n",
    "\\item Used (together with Dolby Digital) extensively in cinema\n",
    "  theaters, DVDs, Blu-rays, etc.\n",
    "\\item Lossy compression of up to five channels for normal-range\n",
    "  speakers (20 Hz - 20,000 Hz) (right, center, left, right surround,\n",
    "  left surround) and one channel (20 Hz – 120 Hz allotted audio) for\n",
    "  the sub-woofer.\n",
    "\\item Coherent Acoustics Algorithm:\n",
    "  \\begin{enumerate}\n",
    "  \\item Split the original PCM sequence into 32 PCM sequences, each\n",
    "    one for a specific frequency subband.\n",
    "  \\item Determine the quantization values for each subband using a\n",
    "    psycho-acoustic model.\n",
    "  \\item Lossy compress each subband PCM sequence using ADPCM.\n",
    "\\end{enumerate}\n",
    "\\end{itemize}"
   ]
  }
 ],
 "metadata": {
  "kernelspec": {
   "display_name": "Python 3",
   "language": "python",
   "name": "python3"
  },
  "language_info": {
   "codemirror_mode": {
    "name": "ipython",
    "version": 3
   },
   "file_extension": ".py",
   "mimetype": "text/x-python",
   "name": "python",
   "nbconvert_exporter": "python",
   "pygments_lexer": "ipython3",
   "version": "3.6.3"
  }
 },
 "nbformat": 4,
 "nbformat_minor": 2
}
